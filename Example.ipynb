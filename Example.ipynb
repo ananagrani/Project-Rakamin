{
 "cells": [
  {
   "cell_type": "code",
   "execution_count": 1,
   "id": "fb9e4a13-da95-406b-b84b-31c6e2300076",
   "metadata": {},
   "outputs": [
    {
     "name": "stdout",
     "output_type": "stream",
     "text": [
      "Jeno <3\n"
     ]
    }
   ],
   "source": [
    "print ('Jeno <3')"
   ]
  },
  {
   "cell_type": "code",
   "execution_count": null,
   "id": "2ab7f17c-e15b-44e3-875d-6a914c46ee92",
   "metadata": {},
   "outputs": [],
   "source": []
  }
 ],
 "metadata": {
  "kernelspec": {
   "display_name": "Python 3 (ipykernel)",
   "language": "python",
   "name": "python3"
  },
  "language_info": {
   "codemirror_mode": {
    "name": "ipython",
    "version": 3
   },
   "file_extension": ".py",
   "mimetype": "text/x-python",
   "name": "python",
   "nbconvert_exporter": "python",
   "pygments_lexer": "ipython3",
   "version": "3.9.12"
  }
 },
 "nbformat": 4,
 "nbformat_minor": 5
}
